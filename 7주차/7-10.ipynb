{
 "cells": [
  {
   "cell_type": "code",
   "execution_count": 1,
   "metadata": {},
   "outputs": [
    {
     "ename": "OSError",
     "evalue": "No file or directory found at dmlp_trained.h5",
     "output_type": "error",
     "traceback": [
      "\u001b[1;31m---------------------------------------------------------------------------\u001b[0m",
      "\u001b[1;31mOSError\u001b[0m                                   Traceback (most recent call last)",
      "Cell \u001b[1;32mIn[1], line 7\u001b[0m\n\u001b[0;32m      4\u001b[0m \u001b[38;5;28;01mimport\u001b[39;00m \u001b[38;5;21;01mmatplotlib\u001b[39;00m\u001b[38;5;21;01m.\u001b[39;00m\u001b[38;5;21;01mpyplot\u001b[39;00m \u001b[38;5;28;01mas\u001b[39;00m \u001b[38;5;21;01mplt\u001b[39;00m\n\u001b[0;32m      5\u001b[0m \u001b[38;5;28;01mimport\u001b[39;00m \u001b[38;5;21;01mwinsound\u001b[39;00m\n\u001b[1;32m----> 7\u001b[0m model\u001b[38;5;241m=\u001b[39m\u001b[43mtf\u001b[49m\u001b[38;5;241;43m.\u001b[39;49m\u001b[43mkeras\u001b[49m\u001b[38;5;241;43m.\u001b[39;49m\u001b[43mmodels\u001b[49m\u001b[38;5;241;43m.\u001b[39;49m\u001b[43mload_model\u001b[49m\u001b[43m(\u001b[49m\u001b[38;5;124;43m'\u001b[39;49m\u001b[38;5;124;43mdmlp_trained.h5\u001b[39;49m\u001b[38;5;124;43m'\u001b[39;49m\u001b[43m)\u001b[49m\n\u001b[0;32m      9\u001b[0m \u001b[38;5;28;01mdef\u001b[39;00m \u001b[38;5;21mreset\u001b[39m():\n\u001b[0;32m     10\u001b[0m     \u001b[38;5;28;01mglobal\u001b[39;00m img, text_size\n",
      "File \u001b[1;32mc:\\ProgramData\\Anaconda3\\lib\\site-packages\\keras\\utils\\traceback_utils.py:70\u001b[0m, in \u001b[0;36mfilter_traceback.<locals>.error_handler\u001b[1;34m(*args, **kwargs)\u001b[0m\n\u001b[0;32m     67\u001b[0m     filtered_tb \u001b[39m=\u001b[39m _process_traceback_frames(e\u001b[39m.\u001b[39m__traceback__)\n\u001b[0;32m     68\u001b[0m     \u001b[39m# To get the full stack trace, call:\u001b[39;00m\n\u001b[0;32m     69\u001b[0m     \u001b[39m# `tf.debugging.disable_traceback_filtering()`\u001b[39;00m\n\u001b[1;32m---> 70\u001b[0m     \u001b[39mraise\u001b[39;00m e\u001b[39m.\u001b[39mwith_traceback(filtered_tb) \u001b[39mfrom\u001b[39;00m \u001b[39mNone\u001b[39m\n\u001b[0;32m     71\u001b[0m \u001b[39mfinally\u001b[39;00m:\n\u001b[0;32m     72\u001b[0m     \u001b[39mdel\u001b[39;00m filtered_tb\n",
      "File \u001b[1;32mc:\\ProgramData\\Anaconda3\\lib\\site-packages\\keras\\saving\\legacy\\save.py:227\u001b[0m, in \u001b[0;36mload_model\u001b[1;34m(filepath, custom_objects, compile, options)\u001b[0m\n\u001b[0;32m    225\u001b[0m \u001b[39mif\u001b[39;00m \u001b[39misinstance\u001b[39m(filepath_str, \u001b[39mstr\u001b[39m):\n\u001b[0;32m    226\u001b[0m     \u001b[39mif\u001b[39;00m \u001b[39mnot\u001b[39;00m tf\u001b[39m.\u001b[39mio\u001b[39m.\u001b[39mgfile\u001b[39m.\u001b[39mexists(filepath_str):\n\u001b[1;32m--> 227\u001b[0m         \u001b[39mraise\u001b[39;00m \u001b[39mIOError\u001b[39;00m(\n\u001b[0;32m    228\u001b[0m             \u001b[39mf\u001b[39m\u001b[39m\"\u001b[39m\u001b[39mNo file or directory found at \u001b[39m\u001b[39m{\u001b[39;00mfilepath_str\u001b[39m}\u001b[39;00m\u001b[39m\"\u001b[39m\n\u001b[0;32m    229\u001b[0m         )\n\u001b[0;32m    231\u001b[0m     \u001b[39mif\u001b[39;00m tf\u001b[39m.\u001b[39mio\u001b[39m.\u001b[39mgfile\u001b[39m.\u001b[39misdir(filepath_str):\n\u001b[0;32m    232\u001b[0m         \u001b[39mreturn\u001b[39;00m saved_model_load\u001b[39m.\u001b[39mload(\n\u001b[0;32m    233\u001b[0m             filepath_str, \u001b[39mcompile\u001b[39m, options\n\u001b[0;32m    234\u001b[0m         )\n",
      "\u001b[1;31mOSError\u001b[0m: No file or directory found at dmlp_trained.h5"
     ]
    }
   ],
   "source": [
    "import numpy as np\n",
    "import tensorflow as tf\n",
    "import cv2 as cv \n",
    "import matplotlib.pyplot as plt\n",
    "import winsound\n",
    "\n",
    "model=tf.keras.models.load_model('dmlp_trained.h5')\n",
    "\n",
    "def reset():\n",
    "    global img, text_size\n",
    "    \n",
    "    img=np.ones((200,520,3),dtype=np.uint8)*255\n",
    "    for i in range(5):\n",
    "        cv.rectangle(img,(10+i*100,50),(10+(i+1)*100,150),(0,0,255))\n",
    "    \n",
    "    text = 'e:erase s:show r:recognition q:quit'\n",
    "    text_size, _ = cv.getTextSize(text, cv.FONT_HERSHEY_SIMPLEX, 0.8, 1)\n",
    "    text_x = (img.shape[1] - text_size[0]) // 2\n",
    "    text_y = 30\n",
    "    cv.putText(img, text, (text_x, text_y), cv.FONT_HERSHEY_SIMPLEX, 0.8, (255,0,0), 1)\n",
    "\n",
    "def grab_numerals():\n",
    "    numerals=[]\n",
    "    for i in range(5):\n",
    "        roi=img[51:149,11+i*100:9+(i+1)*100,0]\n",
    "        roi=255-cv.resize(roi,(28,28),interpolation=cv.INTER_CUBIC)\n",
    "        numerals.append(roi)  \n",
    "    numerals=np.array(numerals)\n",
    "    return numerals\n",
    "\n",
    "def show():\n",
    "    numerals=grab_numerals()\n",
    "    plt.figure(figsize=(25,5))\n",
    "    for i in range(5):\n",
    "        plt.subplot(1,5,i+1)\n",
    "        plt.imshow(numerals[i],cmap='gray')\n",
    "        plt.xticks([]); plt.yticks([])\n",
    "    plt.show()\n",
    "    \n",
    "def recognition():\n",
    "    numerals=grab_numerals()\n",
    "    numerals=numerals.reshape(5,784)\n",
    "    numerals=numerals.astype(np.float32)/255.0\n",
    "    res=model.predict(numerals) \n",
    "    class_ids = np.argmax(res, axis=1)\n",
    "    \n",
    "    for i in range(5):\n",
    "        class_id = class_ids[i]\n",
    "        confidences = res[i]\n",
    "        top_2 = confidences.argsort()[-2:][::-1] \n",
    "        top_2_str = f\"{class_id}({top_2[0]}, {top_2[1]})\" \n",
    "        \n",
    "       \n",
    "        text_size, _ = cv.getTextSize(top_2_str, cv.FONT_HERSHEY_SIMPLEX, 1, 1)\n",
    "        text_x = (i * 100) + (170 - text_size[0]) // 2\n",
    "        text_y = 180\n",
    "        \n",
    "        cv.putText(img, top_2_str, (text_x, text_y), cv.FONT_HERSHEY_SIMPLEX, 0.7, (255, 0, 0), 1)\n",
    "    winsound.Beep(1000, 500)\n",
    "\n",
    "  \n",
    "        \n",
    "BrushSiz=4\n",
    "LColor=(0,0,0)\n",
    "\n",
    "def writing(event,x,y,flags,param):\n",
    "    if event==cv.EVENT_LBUTTONDOWN:\n",
    "        cv.circle(img,(x,y),BrushSiz,LColor,-1) \n",
    "    elif event==cv.EVENT_MOUSEMOVE and flags==cv.EVENT_FLAG_LBUTTON: \n",
    "        cv.circle(img,(x,y),BrushSiz,LColor,-1)\n",
    "\n",
    "reset()\n",
    "cv.namedWindow('Writing')\n",
    "cv.setMouseCallback('Writing',writing)\n",
    "\n",
    "while(True):\n",
    "    cv.imshow('Writing',img)\n",
    "    key=cv.waitKey(1)\n",
    "    if key==ord('e'):\n",
    "        reset()\n",
    "    elif key==ord('s'):\n",
    "        show()        \n",
    "    elif key==ord('r'):\n",
    "        recognition()\n",
    "    elif key==ord('q'):\n",
    "        break\n",
    "    \n",
    "cv.destroyAllWindows()"
   ]
  },
  {
   "cell_type": "code",
   "execution_count": null,
   "metadata": {},
   "outputs": [],
   "source": []
  }
 ],
 "metadata": {
  "kernelspec": {
   "display_name": "Python 3.9.12 ('base')",
   "language": "python",
   "name": "python3"
  },
  "language_info": {
   "codemirror_mode": {
    "name": "ipython",
    "version": 3
   },
   "file_extension": ".py",
   "mimetype": "text/x-python",
   "name": "python",
   "nbconvert_exporter": "python",
   "pygments_lexer": "ipython3",
   "version": "3.9.12"
  },
  "orig_nbformat": 4,
  "vscode": {
   "interpreter": {
    "hash": "ad2bdc8ecc057115af97d19610ffacc2b4e99fae6737bb82f5d7fb13d2f2c186"
   }
  }
 },
 "nbformat": 4,
 "nbformat_minor": 2
}
