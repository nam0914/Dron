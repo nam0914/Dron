{
 "cells": [
  {
   "cell_type": "code",
   "execution_count": 2,
   "id": "d770ac97",
   "metadata": {},
   "outputs": [],
   "source": [
    "import cv2 as cv\n",
    "import sys"
   ]
  },
  {
   "cell_type": "code",
   "execution_count": 3,
   "id": "5a98aa62",
   "metadata": {},
   "outputs": [],
   "source": [
    "img1=cv.imread('./soccer.jpg')\n",
    "img2=cv.imread('./volleyball.jpg')"
   ]
  },
  {
   "cell_type": "code",
   "execution_count": 5,
   "id": "f82b874e",
   "metadata": {},
   "outputs": [],
   "source": [
    "if img1 is None:\n",
    "    sys.exit('파일을 찾을 수 없습니다.')"
   ]
  },
  {
   "cell_type": "code",
   "execution_count": 6,
   "id": "7fee4783",
   "metadata": {},
   "outputs": [],
   "source": [
    "if img2 is None:\n",
    "    sys.exit('파일을 찾을 수 없습니다.')"
   ]
  },
  {
   "cell_type": "code",
   "execution_count": 11,
   "id": "7a1cbda1",
   "metadata": {},
   "outputs": [],
   "source": [
    "cv.imshow('Soccer Image',img1)\n",
    "cv.imshow('Volleyball Image',img2)"
   ]
  },
  {
   "cell_type": "code",
   "execution_count": null,
   "id": "7f65b6a4",
   "metadata": {},
   "outputs": [],
   "source": [
    "cv.waitKey()\n",
    "cv.destroyAllWindows()"
   ]
  },
  {
   "cell_type": "code",
   "execution_count": null,
   "id": "3a74e7ee",
   "metadata": {},
   "outputs": [],
   "source": []
  }
 ],
 "metadata": {
  "kernelspec": {
   "display_name": "Python 3 (ipykernel)",
   "language": "python",
   "name": "python3"
  },
  "language_info": {
   "codemirror_mode": {
    "name": "ipython",
    "version": 3
   },
   "file_extension": ".py",
   "mimetype": "text/x-python",
   "name": "python",
   "nbconvert_exporter": "python",
   "pygments_lexer": "ipython3",
   "version": "3.9.12"
  }
 },
 "nbformat": 4,
 "nbformat_minor": 5
}
