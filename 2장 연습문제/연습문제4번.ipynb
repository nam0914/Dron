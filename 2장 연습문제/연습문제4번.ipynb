{
 "cells": [
  {
   "cell_type": "code",
   "execution_count": 1,
   "id": "45852213",
   "metadata": {},
   "outputs": [],
   "source": [
    "import cv2 as cv\n",
    "import sys"
   ]
  },
  {
   "cell_type": "code",
   "execution_count": 2,
   "id": "9a50a43a",
   "metadata": {},
   "outputs": [],
   "source": [
    "img = cv.imread('./soccer.jpg')"
   ]
  },
  {
   "cell_type": "code",
   "execution_count": 3,
   "id": "f5385161",
   "metadata": {},
   "outputs": [],
   "source": [
    "if img is None:\n",
    "    sys.exit('파일을 찾을 수 없습니다.')\n",
    "\n",
    "gray = cv.cvtColor(img, cv.COLOR_BGR2GRAY)\n",
    "graysl=cv.resize(gray,dsize=(0,0),fx=0.1,fy=0.1)\n",
    "grays2=cv.resize(gray,dsize=(0,0),fx=0.2,fy=0.2)\n",
    "grays3=cv.resize(gray,dsize=(0,0),fx=0.3,fy=0.3)\n",
    "grays4=cv.resize(gray,dsize=(0,0),fx=0.4,fy=0.4)\n",
    "grays5=cv.resize(gray,dsize=(0,0),fx=0.5,fy=0.5)\n",
    "grays6=cv.resize(gray,dsize=(0,0),fx=0.6,fy=0.6)\n",
    "grays7=cv.resize(gray,dsize=(0,0),fx=0.7,fy=0.7)\n",
    "grays8=cv.resize(gray,dsize=(0,0),fx=0.8,fy=0.8)\n",
    "grays9=cv.resize(gray,dsize=(0,0),fx=0.9,fy=0.9)\n",
    "grays10=cv.resize(gray,dsize=(0,0),fx=1.0,fy=1.0)\n",
    "\n",
    "cv.imwrite('soccer_gray.jpg',gray)\n",
    "\n",
    "cv.imwrite('soccer_gray_small1.jpg',graysl)\n",
    "cv.imwrite('soccer_gray_small2.jpg',grays2)\n",
    "cv.imwrite('soccer_gray_small3.jpg',grays3)\n",
    "cv.imwrite('soccer_gray_small4.jpg',grays4)\n",
    "cv.imwrite('soccer_gray_small5.jpg',grays5)\n",
    "cv.imwrite('soccer_gray_small6.jpg',grays6)\n",
    "cv.imwrite('soccer_gray_small7.jpg',grays7)\n",
    "cv.imwrite('soccer_gray_small8.jpg',grays8)\n",
    "cv.imwrite('soccer_gray_small9.jpg',grays9)\n",
    "cv.imwrite('soccer_gray_small10.jpg',grays10)\n",
    "\n",
    "cv.imshow('Gray small image1',graysl)\n",
    "cv.imshow('Gray small image2',grays2)\n",
    "cv.imshow('Gray small image3',grays3)\n",
    "cv.imshow('Gray small image4',grays4)\n",
    "cv.imshow('Gray small image5',grays5)\n",
    "cv.imshow('Gray small image6',grays6)\n",
    "cv.imshow('Gray small image7',grays7)\n",
    "cv.imshow('Gray small image8',grays8)\n",
    "cv.imshow('Gray small image9',grays9)\n",
    "cv.imshow('Gray small image10',grays10)\n",
    "\n",
    "cv.waitKey()\n",
    "cv.destroyAllWindows()"
   ]
  },
  {
   "cell_type": "code",
   "execution_count": null,
   "id": "32619533",
   "metadata": {},
   "outputs": [],
   "source": []
  }
 ],
 "metadata": {
  "kernelspec": {
   "display_name": "Python 3.10.6 64-bit",
   "language": "python",
   "name": "python3"
  },
  "language_info": {
   "codemirror_mode": {
    "name": "ipython",
    "version": 3
   },
   "file_extension": ".py",
   "mimetype": "text/x-python",
   "name": "python",
   "nbconvert_exporter": "python",
   "pygments_lexer": "ipython3",
   "version": "3.10.6"
  },
  "vscode": {
   "interpreter": {
    "hash": "369f2c481f4da34e4445cda3fffd2e751bd1c4d706f27375911949ba6bb62e1c"
   }
  }
 },
 "nbformat": 4,
 "nbformat_minor": 5
}
