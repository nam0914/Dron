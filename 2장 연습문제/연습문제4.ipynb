{
 "cells": [
  {
   "cell_type": "code",
   "execution_count": 9,
   "id": "45852213",
   "metadata": {},
   "outputs": [],
   "source": [
    "import cv2 as cv\n",
    "import sys"
   ]
  },
  {
   "cell_type": "code",
   "execution_count": 10,
   "id": "9a50a43a",
   "metadata": {},
   "outputs": [],
   "source": [
    "img = cv.imread('./soccer.jpg')"
   ]
  },
  {
   "cell_type": "code",
   "execution_count": 14,
   "id": "f5385161",
   "metadata": {},
   "outputs": [],
   "source": [
    "if img is None:\n",
    "    sys.exit('파일을 찾을 수 없습니다.')\n",
    "\n",
    "gray = cv.cvtColor(img, cv.COLOR_BGR2GRAY)\n",
    "gray_small1=cv.resize(gray,dsize=(0,0),fx=0.1,fy=0.1)\n",
    "gray_small2=cv.resize(gray,dsize=(0,0),fx=0.2,fy=0.2)\n",
    "gray_small3=cv.resize(gray,dsize=(0,0),fx=0.3,fy=0.3)\n",
    "gray_small4=cv.resize(gray,dsize=(0,0),fx=0.4,fy=0.4)\n",
    "gray_small5=cv.resize(gray,dsize=(0,0),fx=0.5,fy=0.5)\n",
    "gray_small6=cv.resize(gray,dsize=(0,0),fx=0.6,fy=0.6)\n",
    "gray_small7=cv.resize(gray,dsize=(0,0),fx=0.7,fy=0.7)\n",
    "gray_small8=cv.resize(gray,dsize=(0,0),fx=0.8,fy=0.8)\n",
    "gray_small9=cv.resize(gray,dsize=(0,0),fx=0.9,fy=0.9)\n",
    "gray_small10=cv.resize(gray,dsize=(0,0),fx=1.0,fy=1.0)\n",
    "\n",
    "cv.imwrite('soccer_gray.jpg',gray)\n",
    "\n",
    "cv.imwrite('soccer_gray_small1.jpg',gray_small1)\n",
    "cv.imwrite('soccer_gray_small2.jpg',gray_small2)\n",
    "cv.imwrite('soccer_gray_small3.jpg',gray_small3)\n",
    "cv.imwrite('soccer_gray_small4.jpg',gray_small4)\n",
    "cv.imwrite('soccer_gray_small5.jpg',gray_small5)\n",
    "cv.imwrite('soccer_gray_small6.jpg',gray_small6)\n",
    "cv.imwrite('soccer_gray_small7.jpg',gray_small7)\n",
    "cv.imwrite('soccer_gray_small8.jpg',gray_small8)\n",
    "cv.imwrite('soccer_gray_small9.jpg',gray_small9)\n",
    "cv.imwrite('soccer_gray_small10.jpg',gray_small10)\n",
    "\n",
    "cv.imshow('Gray small image1',gray_small1)\n",
    "cv.imshow('Gray small image2',gray_small2)\n",
    "cv.imshow('Gray small image3',gray_small3)\n",
    "cv.imshow('Gray small image4',gray_small4)\n",
    "cv.imshow('Gray small image5',gray_small5)\n",
    "cv.imshow('Gray small image6',gray_small6)\n",
    "cv.imshow('Gray small image7',gray_small7)\n",
    "cv.imshow('Gray small image8',gray_small8)\n",
    "cv.imshow('Gray small image9',gray_small9)\n",
    "cv.imshow('Gray small image10',gray_small10)\n",
    "\n",
    "cv.waitKey()\n",
    "cv.destroyAllWindows()"
   ]
  },
  {
   "cell_type": "code",
   "execution_count": null,
   "id": "32619533",
   "metadata": {},
   "outputs": [],
   "source": []
  }
 ],
 "metadata": {
  "kernelspec": {
   "display_name": "Python 3 (ipykernel)",
   "language": "python",
   "name": "python3"
  },
  "language_info": {
   "codemirror_mode": {
    "name": "ipython",
    "version": 3
   },
   "file_extension": ".py",
   "mimetype": "text/x-python",
   "name": "python",
   "nbconvert_exporter": "python",
   "pygments_lexer": "ipython3",
   "version": "3.9.12"
  }
 },
 "nbformat": 4,
 "nbformat_minor": 5
}
