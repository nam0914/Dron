{
 "cells": [
  {
   "cell_type": "code",
   "execution_count": 3,
   "id": "58522d91",
   "metadata": {},
   "outputs": [
    {
     "ename": "KeyboardInterrupt",
     "evalue": "",
     "output_type": "error",
     "traceback": [
      "\u001b[1;31m---------------------------------------------------------------------------\u001b[0m",
      "\u001b[1;31mKeyboardInterrupt\u001b[0m                         Traceback (most recent call last)",
      "\u001b[1;32md:\\nam\\드론인터페이스\\DronInterfacing-main\\2장 연습문제\\연습문제7.ipynb 셀 1\u001b[0m in \u001b[0;36m<cell line: 21>\u001b[1;34m()\u001b[0m\n\u001b[0;32m     <a href='vscode-notebook-cell:/d%3A/nam/%EB%93%9C%EB%A1%A0%EC%9D%B8%ED%84%B0%ED%8E%98%EC%9D%B4%EC%8A%A4/DronInterfacing-main/2%EC%9E%A5%20%EC%97%B0%EC%8A%B5%EB%AC%B8%EC%A0%9C/%EC%97%B0%EC%8A%B5%EB%AC%B8%EC%A0%9C7.ipynb#W0sZmlsZQ%3D%3D?line=18'>19</a>\u001b[0m cv\u001b[39m.\u001b[39msetMouseCallback(\u001b[39m'\u001b[39m\u001b[39mDrawing\u001b[39m\u001b[39m'\u001b[39m, draw)\n\u001b[0;32m     <a href='vscode-notebook-cell:/d%3A/nam/%EB%93%9C%EB%A1%A0%EC%9D%B8%ED%84%B0%ED%8E%98%EC%9D%B4%EC%8A%A4/DronInterfacing-main/2%EC%9E%A5%20%EC%97%B0%EC%8A%B5%EB%AC%B8%EC%A0%9C/%EC%97%B0%EC%8A%B5%EB%AC%B8%EC%A0%9C7.ipynb#W0sZmlsZQ%3D%3D?line=20'>21</a>\u001b[0m \u001b[39mwhile\u001b[39;00m(\u001b[39mTrue\u001b[39;00m):\n\u001b[1;32m---> <a href='vscode-notebook-cell:/d%3A/nam/%EB%93%9C%EB%A1%A0%EC%9D%B8%ED%84%B0%ED%8E%98%EC%9D%B4%EC%8A%A4/DronInterfacing-main/2%EC%9E%A5%20%EC%97%B0%EC%8A%B5%EB%AC%B8%EC%A0%9C/%EC%97%B0%EC%8A%B5%EB%AC%B8%EC%A0%9C7.ipynb#W0sZmlsZQ%3D%3D?line=21'>22</a>\u001b[0m     \u001b[39mif\u001b[39;00m cv\u001b[39m.\u001b[39;49mwaitKey(\u001b[39m1\u001b[39;49m) \u001b[39m==\u001b[39m \u001b[39mord\u001b[39m(\u001b[39m'\u001b[39m\u001b[39mq\u001b[39m\u001b[39m'\u001b[39m):        \n\u001b[0;32m     <a href='vscode-notebook-cell:/d%3A/nam/%EB%93%9C%EB%A1%A0%EC%9D%B8%ED%84%B0%ED%8E%98%EC%9D%B4%EC%8A%A4/DronInterfacing-main/2%EC%9E%A5%20%EC%97%B0%EC%8A%B5%EB%AC%B8%EC%A0%9C/%EC%97%B0%EC%8A%B5%EB%AC%B8%EC%A0%9C7.ipynb#W0sZmlsZQ%3D%3D?line=22'>23</a>\u001b[0m         cv\u001b[39m.\u001b[39mdestroyAllWindows()\n\u001b[0;32m     <a href='vscode-notebook-cell:/d%3A/nam/%EB%93%9C%EB%A1%A0%EC%9D%B8%ED%84%B0%ED%8E%98%EC%9D%B4%EC%8A%A4/DronInterfacing-main/2%EC%9E%A5%20%EC%97%B0%EC%8A%B5%EB%AC%B8%EC%A0%9C/%EC%97%B0%EC%8A%B5%EB%AC%B8%EC%A0%9C7.ipynb#W0sZmlsZQ%3D%3D?line=23'>24</a>\u001b[0m         \u001b[39mbreak\u001b[39;00m\n",
      "\u001b[1;31mKeyboardInterrupt\u001b[0m: "
     ]
    }
   ],
   "source": [
    "import cv2 as cv\n",
    "import sys\n",
    "\n",
    "img = cv.imread('./girl_laughing.jpg')\n",
    "\n",
    "if img is None:\n",
    "    sys.exit('파일을 찾을 수 없습니다.')\n",
    "\n",
    "def draw(event, x, y, flags, param):\n",
    "    if event == cv.EVENT_LBUTTONDOWN:\n",
    "        cv.rectangle(img, (x,y), (x+20, y+20), (0, 0, 255), 2)\n",
    "    elif event == cv.EVENT_RBUTTONDOWN:\n",
    "        cv.circle(img, (x,y), 50, (255, 0, 0), 2)\n",
    "    cv.imshow('Drawing', img)\n",
    "\n",
    "cv.namedWindow('Drawing')\n",
    "cv.imshow('Drawing', img)\n",
    "\n",
    "cv.setMouseCallback('Drawing', draw)\n",
    "\n",
    "while(True):\n",
    "    if cv.waitKey(1) == ord('q'):        \n",
    "        cv.destroyAllWindows()\n",
    "        break"
   ]
  },
  {
   "cell_type": "code",
   "execution_count": null,
   "id": "2e2dd6b0",
   "metadata": {},
   "outputs": [],
   "source": []
  }
 ],
 "metadata": {
  "kernelspec": {
   "display_name": "Python 3.10.6 64-bit",
   "language": "python",
   "name": "python3"
  },
  "language_info": {
   "codemirror_mode": {
    "name": "ipython",
    "version": 3
   },
   "file_extension": ".py",
   "mimetype": "text/x-python",
   "name": "python",
   "nbconvert_exporter": "python",
   "pygments_lexer": "ipython3",
   "version": "3.10.6"
  },
  "vscode": {
   "interpreter": {
    "hash": "369f2c481f4da34e4445cda3fffd2e751bd1c4d706f27375911949ba6bb62e1c"
   }
  }
 },
 "nbformat": 4,
 "nbformat_minor": 5
}
