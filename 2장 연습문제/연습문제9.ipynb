{
 "cells": [
  {
   "cell_type": "code",
   "execution_count": 1,
   "id": "187fff45",
   "metadata": {},
   "outputs": [],
   "source": [
    "import cv2 as cv\n",
    "import sys"
   ]
  },
  {
   "cell_type": "code",
   "execution_count": 5,
   "id": "ec5d9d55",
   "metadata": {},
   "outputs": [],
   "source": [
    "img=cv.imread('./soccer.jpg')\n",
    "\n",
    "if img is None:\n",
    "    sys.exit('파일을 찾을 수 없습니다.')\n",
    "    \n",
    "BrushSize=5\n",
    "LColor,RColor=(255,0,0),(0,0,255)\n",
    "\n",
    "def painting(event,x,y,flags,param):\n",
    "    if event==cv.EVENT_LBUTTONDOWN:\n",
    "        cv.circle(img,(x,y),BrushSize,LColor,-1)\n",
    "    elif event==cv.EVENT_RBUTTONDOWN:\n",
    "        cv.circle(img,(x,y),BrushSize,RColor,-1)\n",
    "    elif event==cv.EVENT_MOUSEMOVE and flags==cv.EVENT_FLAG_LBUTTON:\n",
    "        cv.circle(img,(x,y),BrushSize,LColor,-1)\n",
    "    elif event==cv.EVENT_MOUSEMOVE and flags==cv.EVENT_FLAG_RBUTTON:\n",
    "        cv.circle(img,(x,y),BrushSize,RColor,-1)\n",
    "        \n",
    "    cv.imshow('Painting',img)\n",
    "    \n",
    "cv.namedWindow('Painting')\n",
    "cv.imshow('Painting',img)\n",
    "\n",
    "cv.setMouseCallback('Painting',painting)\n",
    "\n",
    "while(True):\n",
    "    if cv.waitKey(1)==ord('q'):\n",
    "        cv.destroyAllWindows()\n",
    "        break\n",
    "    elif cv.waitKey(1)==ord('+'):\n",
    "        BrushSize=BrushSize+1\n",
    "    elif cv.waitKey(1)==ord('-'):\n",
    "        BrushSize=BrushSize-1"
   ]
  },
  {
   "cell_type": "code",
   "execution_count": null,
   "id": "e4098f43",
   "metadata": {},
   "outputs": [],
   "source": []
  }
 ],
 "metadata": {
  "kernelspec": {
   "display_name": "Python 3 (ipykernel)",
   "language": "python",
   "name": "python3"
  },
  "language_info": {
   "codemirror_mode": {
    "name": "ipython",
    "version": 3
   },
   "file_extension": ".py",
   "mimetype": "text/x-python",
   "name": "python",
   "nbconvert_exporter": "python",
   "pygments_lexer": "ipython3",
   "version": "3.9.12"
  }
 },
 "nbformat": 4,
 "nbformat_minor": 5
}
