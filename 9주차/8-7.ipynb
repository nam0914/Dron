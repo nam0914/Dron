{
 "cells": [
  {
   "cell_type": "code",
   "execution_count": null,
   "metadata": {},
   "outputs": [],
   "source": [
    "import numpy as np\n",
    "import tensorflow as tf\n",
    "import tensorflow.keras.datasets as ds\n",
    "\n",
    "from tensorflow.keras.models import Model\n",
    "from tensorflow.keras.layers import Input,Conv2D,MaxPooling2D,Flatten,Dense,Dropout\n",
    "from tensorflow.keras.optimizers import Adam\n",
    "\n",
    "(x_train,y_train),(x_test,y_test)=ds.cifar10.load_data()\n",
    "x_train=x_train.astype(np.float32)/255.0 \n",
    "x_test=x_test.astype(np.float32)/255.0\n",
    "y_train=tf.keras.utils.to_categorical(y_train,10)\n",
    "y_test=tf.keras.utils.to_categorical(y_test,10)\n",
    "\n",
    "#Functional API\n",
    "input = Input(shape=(32,32,3)) \n",
    "x1 = Conv2D(32,(3,3),activation='relu')(input)\n",
    "x1 = Conv2D(32,(3,3),activation='relu')(x1) \n",
    "x1 = MaxPooling2D(pool_size=(2,2))(x1) \n",
    "x1 = Dropout(0.25)(x1) \n",
    "x2 = Conv2D(64,(3,3),activation='relu')(x1) \n",
    "x2 = Conv2D(64,(3,3),activation='relu')(x1) \n",
    "x2 = MaxPooling2D(pool_size=(2,2))(x2)\n",
    "x2 = Dropout(0.25)(x2) \n",
    "x3 = Flatten()(x2) \n",
    "x3 = Dense(units=512,activation='relu')(x3) \n",
    "x3 = Dropout(0.5)(x3)  \n",
    "output = Dense(units=10,activation='softmax')(x3) \n",
    "model = Model(input,output)\n",
    "\n",
    "\n",
    "\n",
    "\n",
    "model.compile(loss='categorical_crossentropy',optimizer=Adam(learning_rate=0.001),metrics=['accuracy'])\n",
    "\n",
    "hist=model.fit(x_train,y_train,batch_size=128,epochs=100,validation_data=(x_test,y_test),verbose=2)\n",
    "\n",
    "res=model.evaluate(x_test,y_test,verbose=0)\n",
    "print('정확률=',res[1]*100)\n",
    "\n",
    "import matplotlib.pyplot as plt\n",
    "\n",
    "plt.plot(hist.history['accuracy'])\n",
    "plt.plot(hist.history['val_accuracy'])\n",
    "plt.title('Accuracy graph')\n",
    "plt.ylabel('Accuracy')\n",
    "plt.xlabel('Epoch')\n",
    "plt.legend(['Train','Validation'])\n",
    "plt.grid()\n",
    "plt.show()\n",
    "\n",
    "plt.plot(hist.history['loss'])\n",
    "plt.plot(hist.history['val_loss'])\n",
    "plt.title('Loss graph')\n",
    "plt.ylabel('Loss')\n",
    "plt.xlabel('Epoch')\n",
    "plt.legend(['Train','Validation'])\n",
    "plt.grid()\n",
    "plt.show()"
   ]
  }
 ],
 "metadata": {
  "kernelspec": {
   "display_name": "Python 3.10.6 64-bit",
   "language": "python",
   "name": "python3"
  },
  "language_info": {
   "name": "python",
   "version": "3.10.6"
  },
  "orig_nbformat": 4,
  "vscode": {
   "interpreter": {
    "hash": "369f2c481f4da34e4445cda3fffd2e751bd1c4d706f27375911949ba6bb62e1c"
   }
  }
 },
 "nbformat": 4,
 "nbformat_minor": 2
}
