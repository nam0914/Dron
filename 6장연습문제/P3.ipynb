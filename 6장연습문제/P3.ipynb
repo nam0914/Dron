{
 "cells": [
  {
   "cell_type": "code",
   "execution_count": 1,
   "metadata": {},
   "outputs": [
    {
     "ename": "error",
     "evalue": "OpenCV(4.7.0) D:\\a\\opencv-python\\opencv-python\\opencv\\modules\\imgproc\\src\\grabcut.cpp:386: error: (-215:Assertion failed) !bgdSamples.empty() && !fgdSamples.empty() in function 'initGMMs'\n",
     "output_type": "error",
     "traceback": [
      "\u001b[1;31m---------------------------------------------------------------------------\u001b[0m",
      "\u001b[1;31merror\u001b[0m                                     Traceback (most recent call last)",
      "Cell \u001b[1;32mIn[1], line 77\u001b[0m, in \u001b[0;36mOrim.cutFunction\u001b[1;34m(self)\u001b[0m\n\u001b[0;32m     75\u001b[0m background\u001b[38;5;241m=\u001b[39mnp\u001b[38;5;241m.\u001b[39mzeros((\u001b[38;5;241m1\u001b[39m,\u001b[38;5;241m65\u001b[39m),np\u001b[38;5;241m.\u001b[39mfloat64)\n\u001b[0;32m     76\u001b[0m foreground\u001b[38;5;241m=\u001b[39mnp\u001b[38;5;241m.\u001b[39mzeros((\u001b[38;5;241m1\u001b[39m,\u001b[38;5;241m65\u001b[39m),np\u001b[38;5;241m.\u001b[39mfloat64)\n\u001b[1;32m---> 77\u001b[0m \u001b[43mcv\u001b[49m\u001b[38;5;241;43m.\u001b[39;49m\u001b[43mgrabCut\u001b[49m\u001b[43m(\u001b[49m\u001b[38;5;28;43mself\u001b[39;49m\u001b[38;5;241;43m.\u001b[39;49m\u001b[43mimg\u001b[49m\u001b[43m,\u001b[49m\u001b[38;5;28;43mself\u001b[39;49m\u001b[38;5;241;43m.\u001b[39;49m\u001b[43mmask\u001b[49m\u001b[43m,\u001b[49m\u001b[38;5;28;43;01mNone\u001b[39;49;00m\u001b[43m,\u001b[49m\u001b[43mbackground\u001b[49m\u001b[43m,\u001b[49m\u001b[43mforeground\u001b[49m\u001b[43m,\u001b[49m\u001b[38;5;241;43m5\u001b[39;49m\u001b[43m,\u001b[49m\u001b[43mcv\u001b[49m\u001b[38;5;241;43m.\u001b[39;49m\u001b[43mGC_INIT_WITH_MASK\u001b[49m\u001b[43m)\u001b[49m\n\u001b[0;32m     78\u001b[0m mask2\u001b[38;5;241m=\u001b[39mnp\u001b[38;5;241m.\u001b[39mwhere((\u001b[38;5;28mself\u001b[39m\u001b[38;5;241m.\u001b[39mmask\u001b[38;5;241m==\u001b[39m\u001b[38;5;241m2\u001b[39m)\u001b[38;5;241m|\u001b[39m(\u001b[38;5;28mself\u001b[39m\u001b[38;5;241m.\u001b[39mmask\u001b[38;5;241m==\u001b[39m\u001b[38;5;241m0\u001b[39m),\u001b[38;5;241m0\u001b[39m,\u001b[38;5;241m1\u001b[39m)\u001b[38;5;241m.\u001b[39mastype(\u001b[38;5;124m'\u001b[39m\u001b[38;5;124muint8\u001b[39m\u001b[38;5;124m'\u001b[39m)\n\u001b[0;32m     79\u001b[0m \u001b[38;5;28mself\u001b[39m\u001b[38;5;241m.\u001b[39mgrabImg\u001b[38;5;241m=\u001b[39m\u001b[38;5;28mself\u001b[39m\u001b[38;5;241m.\u001b[39mimg\u001b[38;5;241m*\u001b[39mmask2[:,:,np\u001b[38;5;241m.\u001b[39mnewaxis]\n",
      "\u001b[1;31merror\u001b[0m: OpenCV(4.7.0) D:\\a\\opencv-python\\opencv-python\\opencv\\modules\\imgproc\\src\\grabcut.cpp:386: error: (-215:Assertion failed) !bgdSamples.empty() && !fgdSamples.empty() in function 'initGMMs'\n"
     ]
    },
    {
     "data": {
      "text/plain": [
       "0"
      ]
     },
     "execution_count": 1,
     "metadata": {},
     "output_type": "execute_result"
    }
   ],
   "source": [
    "import cv2 as cv\n",
    "import numpy as np\n",
    "import sys\n",
    "from PyQt5.QtWidgets import *\n",
    "\n",
    "class Orim(QMainWindow):\n",
    "  def __init__(self):\n",
    "    super().__init__()\n",
    "    self.setWindowTitle('오림')\n",
    "    self.setGeometry(200,200,700,200)\n",
    "\n",
    "    fileButton=QPushButton('파일',self)\n",
    "    paintButton=QPushButton('페인팅',self)\n",
    "    cutButton=QPushButton('오림',self)\n",
    "    incButton=QPushButton('+',self)\n",
    "    decButton=QPushButton('-',self)\n",
    "    saveButton=QPushButton('저장',self)\n",
    "    quitButton=QPushButton('나가기',self)\n",
    "\n",
    "    fileButton.setGeometry(10,10,100,30)\n",
    "    paintButton.setGeometry(110,10,100,30)\n",
    "    cutButton.setGeometry(210,10,100,30)\n",
    "    incButton.setGeometry(310,10,50,30)\n",
    "    decButton.setGeometry(360,10,50,30)\n",
    "    saveButton.setGeometry(410,10,100,30)\n",
    "    quitButton.setGeometry(510,10,100,30)\n",
    "\n",
    "    fileButton.clicked.connect(self.fileOpenFunction)\n",
    "    paintButton.clicked.connect(self.paintFunction)\n",
    "    cutButton.clicked.connect(self.cutFunction)\n",
    "    incButton.clicked.connect(self.incFunction)\n",
    "    decButton.clicked.connect(self.decFunction)\n",
    "    saveButton.clicked.connect(self.saveFunction)\n",
    "    quitButton.clicked.connect(self.quitFunction)\n",
    "\n",
    "    self.BrushSize=5\n",
    "    self.LColor,self.RClor=(255,0,0),(0,0,255)\n",
    "\n",
    "  def fileOpenFunction(self):\n",
    "    fname=QFileDialog.getOpenFileName(self,'Open file','./')\n",
    "    self.img=cv.imread(fname[0])\n",
    "    if self.img is None:sys.exit('파일을 찾을 수 없습니다')\n",
    "\n",
    "\n",
    "    self.img_show=np.copy(self.img)\n",
    "    cv.imshow('Painting',self.img_show)\n",
    "\n",
    "    self.mask=np.zeros((self.img.shape[0],self.img.shape[1]),np.uint8)\n",
    "    self.mask[:,:]=cv.GC_PR_BGD\n",
    "\n",
    "  def paintFunction(self):\n",
    "    cv.setMouseCallback('Painting',self.painting)\n",
    "\n",
    "  def painting(self,event,x,y,flags,param):\n",
    "    if event==cv.EVENT_LBUTTONDOWN:\n",
    "      cv.circle(self.img_show,(x,y),self.BrushSiz,self.LColor,-1)\n",
    "\n",
    "      cv.circle(self.mask,(x,y),self.BrushSiz,cv.GC_FGD,-1)\n",
    "    elif event==cv.EVENT_RBUTTINDOWN:\n",
    "      cv.circle(self.img_show,(x,y),self.BrushSiz,self.RColor,-1)\n",
    "\n",
    "      cv.circle(self.mask,(x,y),self.BrushSiz,cv.GC_BGD,-1)\n",
    "    elif event==cv.EVENT_MOUSEMOVE and flags==cv.EVENT_FLAG_LBUTTON:\n",
    "      cv.circle(self.img_show,(x,y),self.BrushSiz,self.LColor,-1)\n",
    "\n",
    "      cv.circle(self.mask,(x,y),self.BrushSiz,cv.GC_FGD,-1)\n",
    "    elif event==cv.EVENT_MOUSEMOVE and flags==cv.EVENT_FLAG_RBUTTON:\n",
    "      cv.circle(self.img_show,(x,y),self.BrushSiz,self.LColor,-1)\n",
    "\n",
    "      cv.circle(self.mask,(x,y),self.BrushSiz,cv.GC_BGD,-1)\n",
    "\n",
    "    cv.imshow('Painting',self.img_show)\n",
    "\n",
    "  def cutFunction(self):\n",
    "    background=np.zeros((1,65),np.float64)\n",
    "    foreground=np.zeros((1,65),np.float64)\n",
    "    cv.grabCut(self.img,self.mask,None,background,foreground,5,cv.GC_INIT_WITH_MASK)\n",
    "    mask2=np.where((self.mask==2)|(self.mask==0),0,1).astype('uint8')\n",
    "    self.grabImg=self.img*mask2[:,:,np.newaxis]\n",
    "    cv.imshow('Scissoring',self.grabImg)\n",
    "\n",
    "  def incFunction(self):\n",
    "    self.BrushSiz=min(20,self.BrushSiz+1)\n",
    "\n",
    "  def decFunction(self):\n",
    "    self.BrushSiz=max(1,self.BrushSiz-1)\n",
    "\n",
    "  def saveFunction(self):\n",
    "    fname=QFileDialog.getSaveFileName(self,'파일 저장','./')\n",
    "    cv.imwrite(fname[0],self.grabImg)\n",
    "\n",
    "  def quitFunction(self):\n",
    "    cv.destroyAllWindows()\n",
    "    self.close()\n",
    "\n",
    "app=QApplication(sys.argv)\n",
    "win=Orim()\n",
    "win.show()\n",
    "app.exec_()\n"
   ]
  },
  {
   "cell_type": "code",
   "execution_count": null,
   "metadata": {},
   "outputs": [],
   "source": []
  }
 ],
 "metadata": {
  "kernelspec": {
   "display_name": "Python 3.9.12 ('base')",
   "language": "python",
   "name": "python3"
  },
  "language_info": {
   "codemirror_mode": {
    "name": "ipython",
    "version": 3
   },
   "file_extension": ".py",
   "mimetype": "text/x-python",
   "name": "python",
   "nbconvert_exporter": "python",
   "pygments_lexer": "ipython3",
   "version": "3.9.12"
  },
  "orig_nbformat": 4,
  "vscode": {
   "interpreter": {
    "hash": "ad2bdc8ecc057115af97d19610ffacc2b4e99fae6737bb82f5d7fb13d2f2c186"
   }
  }
 },
 "nbformat": 4,
 "nbformat_minor": 2
}
