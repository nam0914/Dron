{
 "cells": [
  {
   "cell_type": "code",
   "execution_count": null,
   "id": "c33e2cd7",
   "metadata": {},
   "outputs": [
    {
     "name": "stderr",
     "output_type": "stream",
     "text": [
      "<>:49: SyntaxWarning: list indices must be integers or slices, not tuple; perhaps you missed a comma?\n",
      "<>:49: SyntaxWarning: list indices must be integers or slices, not tuple; perhaps you missed a comma?\n",
      "D:\\Local\\temp\\ipykernel_9636\\2455310368.py:49: SyntaxWarning: list indices must be integers or slices, not tuple; perhaps you missed a comma?\n",
      "  femboss=np.array([[-1.0,0.0,0.0][0.0,0.0,0.0],[0.0,0.0,1.0]])\n"
     ]
    }
   ],
   "source": [
    "import cv2 as cv\n",
    "import numpy as np\n",
    "from PyQt5.QtWidgets import *\n",
    "import sys\n",
    "\n",
    "class SpecialEffect(QMainWindow):\n",
    "    def __init__(self):\n",
    "        super().__init__()\n",
    "        self.setWindowTitle('사진 특수 효과')\n",
    "        self.setGeometry(200,200,800,200)\n",
    "        \n",
    "        pictureButton=QPushButton('사진 읽기',self)\n",
    "        embossButton=QPushButton('엠보싱',self)\n",
    "        cartoonButton=QPushButton('카툰',self)\n",
    "        sketchButton=QPushButton('연필 스케치',self)\n",
    "        oilButton=QPushButton('유화',self)\n",
    "        saveButton=QPushButton('저장하기',self)\n",
    "        self.pickCombo=QComboBox(self)\n",
    "        self.pickCombo.addItems(['엠보싱','카툰','연필 스케치(명암)','연필 스케치(컬러)','유화'])\n",
    "        quitButton=QPushButton('나가기',self)\n",
    "        self.label=QLabel('환영합니다!',self)\n",
    "        \n",
    "        pictureButton.setGeometry(10,10,100,30)\n",
    "        embossButton.setGeometry(110,10,100,30)\n",
    "        cartoonButton.setGeometry(210,10,100,30)\n",
    "        sketchButton.setGeometry(310,10,100,30)\n",
    "        oilButton.setGeometry(410,10,100,30)\n",
    "        saveButton.setGeometry(510,10,100,30)\n",
    "        self.pickCombo.setGeometry(510,40,110,30)\n",
    "        quitButton.setGeometry(620,10,100,30)\n",
    "        self.label.setGeometry(10,40,500,170)\n",
    "        \n",
    "        pictureButton.clicked.connect(self.pictureOpenFunction)\n",
    "        embossButton.clicked.connect(self.embossFunction)\n",
    "        cartoonButton.clicked.connect(self.cartoonFunction)\n",
    "        sketchButton.clicked.connect(self.sketchFunction)\n",
    "        oilButton.clicked.connect(self.oilFunction)\n",
    "        saveButton.clicked.connect(self.saveFunction)\n",
    "        quitButton.clicked.connect(self.quitFunction)\n",
    "        \n",
    "    def pictureOpenFunction(self):\n",
    "        fname=QFileDialog.getOpenFileName(self,'사진 읽기','./')\n",
    "        self.img=cv.imread(fname[0])\n",
    "        if self.img is None: sys.exit('파일을 찾을 수 없습니다.')\n",
    "            \n",
    "        cv.imshow('Painting',self.img)\n",
    "        \n",
    "    def embossFunction(self):\n",
    "        femboss=np.array([[-1.0,0.0,0.0][0.0,0.0,0.0],[0.0,0.0,1.0]])\n",
    "        \n",
    "        gray=cv.cvtColor(self.img,cv.COLOR_BGR2GRAY)\n",
    "        gray16=np.int16(gray)\n",
    "        self.emboss=np.uint8(np.clip(cv.filter2D(gray16,-1,femboss)+128,0,255))\n",
    "        \n",
    "        cv.imshow('Emboss',self.emboss)\n",
    "        \n",
    "    def cartoonFunction(self):\n",
    "        self.cartoon=cv.stylization(self.img,sigma_s=60,sigma_r=0.45)\n",
    "        cv.imshow('Cartoon',self.cartoon)\n",
    "        \n",
    "    def sketchFunction(self):\n",
    "        self.sketch_gray,self.sketch_color=cv.pencilSketch(self.img,sigma_s=60,sigma_r=0.07,shade_factor=0.02)\n",
    "        cv.imshow('Pencil sketch(gray)',self.sketch_gray)\n",
    "        cv.imshow('Pencil sketch(color)',self.sketch_color)\n",
    "        \n",
    "    def oilFunction(self):\n",
    "        self.oil=cv.xphoto.oilPainting(self.img,10,1,cv.COLOR_BGR2Lab)\n",
    "        cv.imshow('Oil painting',self.oil)\n",
    "        \n",
    "    def saveFunction(self):\n",
    "        fname=QFileDialog.getSaveFileName(self,'파일저장','./')\n",
    "        \n",
    "        i=self.pickCombo.currentIndex()\n",
    "        if i==0: cv.imwrite(fname[0],self.emboss)\n",
    "        elif i==1: cv.imwrite(fname[0,self.cartoon])\n",
    "        elif i==2: cv.imwrite(fname[0,self.sketch_gray])\n",
    "        elif i==3: cv.imwrite(fname[0,self.sketch_color])\n",
    "        elif i==4: cv.imwrite(fname[0,self.oil])\n",
    "            \n",
    "    def quitFunction(self):\n",
    "        cv.destoryAllWindows()\n",
    "        self.close()\n",
    "        \n",
    "app=QApplication(sys.argv)\n",
    "win=SpecialEffect()\n",
    "win.show()\n",
    "app.exec_()"
   ]
  },
  {
   "cell_type": "code",
   "execution_count": null,
   "id": "40e1396b",
   "metadata": {},
   "outputs": [],
   "source": []
  }
 ],
 "metadata": {
  "kernelspec": {
   "display_name": "Python 3.10.6 64-bit",
   "language": "python",
   "name": "python3"
  },
  "language_info": {
   "codemirror_mode": {
    "name": "ipython",
    "version": 3
   },
   "file_extension": ".py",
   "mimetype": "text/x-python",
   "name": "python",
   "nbconvert_exporter": "python",
   "pygments_lexer": "ipython3",
   "version": "3.10.6"
  },
  "vscode": {
   "interpreter": {
    "hash": "369f2c481f4da34e4445cda3fffd2e751bd1c4d706f27375911949ba6bb62e1c"
   }
  }
 },
 "nbformat": 4,
 "nbformat_minor": 5
}
