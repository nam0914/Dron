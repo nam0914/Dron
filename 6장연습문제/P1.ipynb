{
 "cells": [
  {
   "cell_type": "code",
   "execution_count": 1,
   "metadata": {},
   "outputs": [
    {
     "data": {
      "text/plain": [
       "0"
      ]
     },
     "execution_count": 1,
     "metadata": {},
     "output_type": "execute_result"
    }
   ],
   "source": [
    "from PyQt5.QtWidgets import *\n",
    "import sys\n",
    "import winsound\n",
    "\n",
    "class BeepSound(QMainWindow):\n",
    "    def __init__(self):\n",
    "        super().__init__()\n",
    "        self.setWindowTitle('다양한 소리 내기')\n",
    "        self.setGeometry(200, 200, 500, 200)\n",
    "\n",
    "        shortBeepButton = QPushButton('짧게 삑', self)\n",
    "        longBeepButton = QPushButton('길게 삑', self)\n",
    "        quitButton = QPushButton('나가기', self)\n",
    "        self.label = QLabel('환영합니다', self)\n",
    "\n",
    "        customBeepButton = QPushButton('사용자 정의 삑', self)\n",
    "        playSystemSoundButton = QPushButton('시스템 사운드 재생', self)\n",
    "\n",
    "        shortBeepButton.setGeometry(10, 10, 100, 30)\n",
    "        longBeepButton.setGeometry(110, 10, 100, 30)\n",
    "        quitButton.setGeometry(210, 10, 100, 30)\n",
    "        self.label.setGeometry(10, 100, 500, 70)\n",
    "\n",
    "        customBeepButton.setGeometry(10, 50, 100, 30)\n",
    "        playSystemSoundButton.setGeometry(110, 50, 150, 30)\n",
    "\n",
    "        shortBeepButton.clicked.connect(self.shortBeepFunction)\n",
    "        longBeepButton.clicked.connect(self.longBeepFunction)\n",
    "        quitButton.clicked.connect(self.quitFunction)\n",
    "\n",
    "        customBeepButton.clicked.connect(self.customBeepFunction)\n",
    "        playSystemSoundButton.clicked.connect(self.playSystemSoundFunction)\n",
    "\n",
    "    def shortBeepFunction(self):\n",
    "        self.label.setText('주파수 1000으로 0.5초 동안 삑 소리를 냅니다.')\n",
    "        winsound.Beep(1000, 500)\n",
    "\n",
    "    def longBeepFunction(self):\n",
    "        self.label.setText('주파수 1000으로 3초 동안 삑 소리를 냅니다.')\n",
    "        winsound.Beep(1000, 3000)\n",
    "\n",
    "    def customBeepFunction(self):\n",
    "        self.label.setText('주파수 500으로 1초 동안 삑 소리를 냅니다.')\n",
    "        winsound.Beep(500, 1000)\n",
    "\n",
    "    def playSystemSoundFunction(self):\n",
    "        self.label.setText('시스템 사운드를 재생합니다.')\n",
    "        winsound.PlaySound(\"SystemExclamation\", winsound.SND_ALIAS)\n",
    "\n",
    "    def quitFunction(self):\n",
    "        self.close()\n",
    "\n",
    "app = QApplication(sys.argv)\n",
    "win = BeepSound()\n",
    "win.show()\n",
    "app.exec_()\n"
   ]
  },
  {
   "cell_type": "code",
   "execution_count": null,
   "metadata": {},
   "outputs": [],
   "source": []
  }
 ],
 "metadata": {
  "kernelspec": {
   "display_name": "Python 3.9.12 ('base')",
   "language": "python",
   "name": "python3"
  },
  "language_info": {
   "codemirror_mode": {
    "name": "ipython",
    "version": 3
   },
   "file_extension": ".py",
   "mimetype": "text/x-python",
   "name": "python",
   "nbconvert_exporter": "python",
   "pygments_lexer": "ipython3",
   "version": "3.9.12"
  },
  "orig_nbformat": 4,
  "vscode": {
   "interpreter": {
    "hash": "ad2bdc8ecc057115af97d19610ffacc2b4e99fae6737bb82f5d7fb13d2f2c186"
   }
  }
 },
 "nbformat": 4,
 "nbformat_minor": 2
}
