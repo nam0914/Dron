{
 "cells": [
  {
   "cell_type": "code",
   "execution_count": 1,
   "metadata": {},
   "outputs": [
    {
     "ename": "AttributeError",
     "evalue": "'Video' object has no attribute 'frame'",
     "output_type": "error",
     "traceback": [
      "\u001b[1;31m---------------------------------------------------------------------------\u001b[0m",
      "\u001b[1;31mAttributeError\u001b[0m                            Traceback (most recent call last)",
      "Cell \u001b[1;32mIn[1], line 37\u001b[0m, in \u001b[0;36mVideo.captureFunction\u001b[1;34m(self)\u001b[0m\n\u001b[0;32m     36\u001b[0m \u001b[38;5;28;01mdef\u001b[39;00m \u001b[38;5;21mcaptureFunction\u001b[39m(\u001b[38;5;28mself\u001b[39m):\n\u001b[1;32m---> 37\u001b[0m   \u001b[38;5;28mself\u001b[39m\u001b[38;5;241m.\u001b[39mcapturedFrame\u001b[38;5;241m=\u001b[39m\u001b[38;5;28;43mself\u001b[39;49m\u001b[38;5;241;43m.\u001b[39;49m\u001b[43mframe\u001b[49m\n\u001b[0;32m     38\u001b[0m   cv\u001b[38;5;241m.\u001b[39mimshow(\u001b[38;5;124m'\u001b[39m\u001b[38;5;124mCaptured Frame\u001b[39m\u001b[38;5;124m'\u001b[39m,\u001b[38;5;28mself\u001b[39m\u001b[38;5;241m.\u001b[39mcapturedFrame)\n",
      "\u001b[1;31mAttributeError\u001b[0m: 'Video' object has no attribute 'frame'"
     ]
    },
    {
     "ename": "NameError",
     "evalue": "name 'QFiledDialog' is not defined",
     "output_type": "error",
     "traceback": [
      "\u001b[1;31m---------------------------------------------------------------------------\u001b[0m",
      "\u001b[1;31mNameError\u001b[0m                                 Traceback (most recent call last)",
      "Cell \u001b[1;32mIn[1], line 41\u001b[0m, in \u001b[0;36mVideo.saveFunction\u001b[1;34m(self)\u001b[0m\n\u001b[0;32m     40\u001b[0m \u001b[38;5;28;01mdef\u001b[39;00m \u001b[38;5;21msaveFunction\u001b[39m(\u001b[38;5;28mself\u001b[39m):\n\u001b[1;32m---> 41\u001b[0m   fname\u001b[38;5;241m=\u001b[39m\u001b[43mQFiledDialog\u001b[49m\u001b[38;5;241m.\u001b[39mgetSaveFileName(\u001b[38;5;28mself\u001b[39m,\u001b[38;5;124m'\u001b[39m\u001b[38;5;124m파일 저장\u001b[39m\u001b[38;5;124m'\u001b[39m,\u001b[38;5;124m'\u001b[39m\u001b[38;5;124m./\u001b[39m\u001b[38;5;124m'\u001b[39m)\n\u001b[0;32m     42\u001b[0m   cv\u001b[38;5;241m.\u001b[39mimwrite(fname[\u001b[38;5;241m0\u001b[39m],\u001b[38;5;28mself\u001b[39m\u001b[38;5;241m.\u001b[39mcapturedFrame)\n",
      "\u001b[1;31mNameError\u001b[0m: name 'QFiledDialog' is not defined"
     ]
    },
    {
     "data": {
      "text/plain": [
       "0"
      ]
     },
     "execution_count": 1,
     "metadata": {},
     "output_type": "execute_result"
    }
   ],
   "source": [
    "from PyQt5.QtWidgets import *\n",
    "import sys\n",
    "import cv2 as cv\n",
    "\n",
    "class Video(QMainWindow):\n",
    "  def __init__(self):\n",
    "    super().__init__()\n",
    "    self.setWindowTitle('비디오에서 프레임 수집')\n",
    "    self.setGeometry(200,200,500,100)\n",
    "\n",
    "    videoButton=QPushButton('비디오 켜기',self)\n",
    "    captureButton=QPushButton('프레임 잡기',self)\n",
    "    saveButton=QPushButton('프레임 저장',self)\n",
    "    quitButton=QPushButton('나가기',self)\n",
    "    \n",
    "    videoButton.setGeometry(10,10,100,30)\n",
    "    captureButton.setGeometry(110,10,100,30)\n",
    "    saveButton.setGeometry(210,10,100,30)\n",
    "    quitButton.setGeometry(310,10,100,30)\n",
    "\n",
    "    videoButton.clicked.connect(self.videoFunction)\n",
    "    captureButton.clicked.connect(self.captureFunction)\n",
    "    saveButton.clicked.connect(self.saveFunction)\n",
    "    quitButton.clicked.connect(self.quitFunction)\n",
    "\n",
    "  def videoFunction(self):\n",
    "    self.cap=cv.VideoCapture(0,cv.CAP_DSHOW)\n",
    "    if not self.cap.isOpened():self.close()\n",
    "\n",
    "    while True:\n",
    "      ret,self.frame=self.cap.read()\n",
    "      if not ret:break\n",
    "      cv.imshow('video display',self.frame)\n",
    "      cv.waitKey(1)\n",
    "\n",
    "  def captureFunction(self):\n",
    "    self.capturedFrame=self.frame\n",
    "    cv.imshow('Captured Frame',self.capturedFrame)\n",
    "\n",
    "  def saveFunction(self):\n",
    "    fname=QFiledDialog.getSaveFileName(self,'파일 저장','./')\n",
    "    cv.imwrite(fname[0],self.capturedFrame)\n",
    "  def quitFunction(self):\n",
    "    self.cap.release()\n",
    "    cv.destroyAllWindows()\n",
    "    self.close()\n",
    "\n",
    "\n",
    "app=QApplication(sys.argv)\n",
    "win=Video()\n",
    "win.show()\n",
    "app.exec_()"
   ]
  },
  {
   "cell_type": "code",
   "execution_count": 1,
   "metadata": {},
   "outputs": [
    {
     "data": {
      "text/plain": [
       "0"
      ]
     },
     "execution_count": 1,
     "metadata": {},
     "output_type": "execute_result"
    }
   ],
   "source": [
    "from PyQt5.QtWidgets import *\n",
    "import sys\n",
    "import cv2 as cv\n",
    "\n",
    "class Video(QMainWindow):\n",
    "    def __init__(self):\n",
    "        super().__init__()\n",
    "        self.setWindowTitle('비디오에서 프레임 수집')\n",
    "        self.setGeometry(200, 200, 500, 100)\n",
    "\n",
    "        videoButton = QPushButton('비디오 켜기', self)\n",
    "        captureButton = QPushButton('프레임 잡기', self)\n",
    "        multiCaptureButton = QPushButton('여러 프레임 잡기', self)\n",
    "        saveButton = QPushButton('프레임 저장', self)\n",
    "        quitButton = QPushButton('나가기', self)\n",
    "\n",
    "        videoButton.setGeometry(10, 10, 100, 30)\n",
    "        captureButton.setGeometry(110, 10, 100, 30)\n",
    "        multiCaptureButton.setGeometry(210, 10, 100, 30)\n",
    "        saveButton.setGeometry(310, 10, 100, 30)\n",
    "        quitButton.setGeometry(410, 10, 100, 30)\n",
    "\n",
    "        videoButton.clicked.connect(self.videoFunction)\n",
    "        captureButton.clicked.connect(self.captureFunction)\n",
    "        multiCaptureButton.clicked.connect(self.multiCaptureFunction)\n",
    "        saveButton.clicked.connect(self.saveFunction)\n",
    "        quitButton.clicked.connect(self.quitFunction)\n",
    "\n",
    "        self.capturedFrames = []\n",
    "\n",
    "    def videoFunction(self):\n",
    "        self.cap = cv.VideoCapture(0, cv.CAP_DSHOW)\n",
    "        if not self.cap.isOpened():\n",
    "            self.close()\n",
    "\n",
    "        while True:\n",
    "            ret, self.frame = self.cap.read()\n",
    "            if not ret:\n",
    "                break\n",
    "            cv.imshow('video display', self.frame)\n",
    "            cv.waitKey(1)\n",
    "\n",
    "    def captureFunction(self):\n",
    "        self.capturedFrame = self.frame\n",
    "        cv.imshow('Captured Frame', self.capturedFrame)\n",
    "\n",
    "    def multiCaptureFunction(self):\n",
    "        self.cap = cv.VideoCapture(0, cv.CAP_DSHOW)\n",
    "        if not self.cap.isOpened():\n",
    "            self.close()\n",
    "\n",
    "        while True:\n",
    "            ret, self.frame = self.cap.read()\n",
    "            if not ret:\n",
    "                break\n",
    "            cv.imshow('video display', self.frame)\n",
    "            key = cv.waitKey(1)\n",
    "            if key == ord('c') or key == ord('C'):\n",
    "                self.capturedFrames.append(self.frame)\n",
    "\n",
    "    def saveFunction(self):\n",
    "        fname = QFileDialog.getSaveFileName(self, '파일 저장', './')\n",
    "        cv.imwrite(fname[0], self.capturedFrame)\n",
    "\n",
    "    def quitFunction(self):\n",
    "        self.cap.release()\n",
    "        cv.destroyAllWindows()\n",
    "        self.close()\n",
    "\n",
    "app = QApplication(sys.argv)\n",
    "win = Video()\n",
    "win.show()\n",
    "app.exec_()\n"
   ]
  },
  {
   "cell_type": "code",
   "execution_count": null,
   "metadata": {},
   "outputs": [],
   "source": []
  }
 ],
 "metadata": {
  "kernelspec": {
   "display_name": "Python 3.9.12 ('base')",
   "language": "python",
   "name": "python3"
  },
  "language_info": {
   "codemirror_mode": {
    "name": "ipython",
    "version": 3
   },
   "file_extension": ".py",
   "mimetype": "text/x-python",
   "name": "python",
   "nbconvert_exporter": "python",
   "pygments_lexer": "ipython3",
   "version": "3.9.12"
  },
  "orig_nbformat": 4,
  "vscode": {
   "interpreter": {
    "hash": "ad2bdc8ecc057115af97d19610ffacc2b4e99fae6737bb82f5d7fb13d2f2c186"
   }
  }
 },
 "nbformat": 4,
 "nbformat_minor": 2
}
