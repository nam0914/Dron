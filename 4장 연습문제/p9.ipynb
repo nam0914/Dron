{
 "cells": [
  {
   "cell_type": "code",
   "execution_count": 1,
   "metadata": {},
   "outputs": [
    {
     "name": "stderr",
     "output_type": "stream",
     "text": [
      "c:\\ProgramData\\Anaconda3\\lib\\site-packages\\paramiko\\transport.py:219: CryptographyDeprecationWarning: Blowfish has been deprecated\n",
      "  \"class\": algorithms.Blowfish,\n"
     ]
    }
   ],
   "source": [
    "import skimage\n",
    "import numpy as np\n",
    "import cv2 as cv\n",
    "\n",
    "img=skimage.data.coffee()\n",
    "cv.imshow('Coffee image',cv.cvtColor(img,cv.COLOR_RGB2BGR))\n",
    "\n",
    "slic1=skimage.segmentation.slic(img,compactness=20,n_segments=600)\n",
    "sp_img1=skimage.segmentation.mark_boundaries(img,slic1)\n",
    "sp_img1=np.uint8(sp_img1*255.0)\n",
    "\n",
    "slic2=skimage.segmentation.slic(img,compactness=40,n_segments=600)\n",
    "sp_img2=skimage.segmentation.mark_boundaries(img,slic2)\n",
    "sp_img2=np.uint8(sp_img2*255.0)\n",
    "\n",
    "cv.imshow('Super pixels (compact 20)',cv.cvtColor(sp_img1,cv.COLOR_RGB2BGR))\n",
    "cv.imshow('Super pixels (compact 40)',cv.cvtColor(sp_img2,cv.COLOR_RGB2BGR))\n",
    "\n",
    "cv.waitKey()\n",
    "cv.destroyAllWindows()"
   ]
  },
  {
   "cell_type": "code",
   "execution_count": 4,
   "metadata": {},
   "outputs": [],
   "source": [
    "import skimage\n",
    "import numpy as np\n",
    "import cv2 as cv\n",
    "\n",
    "img=skimage.data.coffee()\n",
    "cv.imshow('Coffee image',cv.cvtColor(img,cv.COLOR_RGB2BGR))\n",
    "\n",
    "slic1=skimage.segmentation.slic(img,compactness=40,n_segments=600)\n",
    "sp_img1=skimage.segmentation.mark_boundaries(img,slic1)\n",
    "sp_img1=np.uint8(sp_img1*255.0)\n",
    "\n",
    "slic2=skimage.segmentation.slic(img,compactness=120,n_segments=1000)\n",
    "sp_img2=skimage.segmentation.mark_boundaries(img,slic2)\n",
    "sp_img2=np.uint8(sp_img2*255.0)\n",
    "\n",
    "cv.imshow('Super pixels (compact 40)',cv.cvtColor(sp_img1,cv.COLOR_RGB2BGR))\n",
    "cv.imshow('Super pixels (compact 120)',cv.cvtColor(sp_img2,cv.COLOR_RGB2BGR))\n",
    "\n",
    "cv.waitKey()\n",
    "cv.destroyAllWindows()"
   ]
  },
  {
   "cell_type": "code",
   "execution_count": null,
   "metadata": {},
   "outputs": [],
   "source": []
  }
 ],
 "metadata": {
  "kernelspec": {
   "display_name": "Python 3.9.12 ('base')",
   "language": "python",
   "name": "python3"
  },
  "language_info": {
   "codemirror_mode": {
    "name": "ipython",
    "version": 3
   },
   "file_extension": ".py",
   "mimetype": "text/x-python",
   "name": "python",
   "nbconvert_exporter": "python",
   "pygments_lexer": "ipython3",
   "version": "3.9.12"
  },
  "orig_nbformat": 4,
  "vscode": {
   "interpreter": {
    "hash": "ad2bdc8ecc057115af97d19610ffacc2b4e99fae6737bb82f5d7fb13d2f2c186"
   }
  }
 },
 "nbformat": 4,
 "nbformat_minor": 2
}
