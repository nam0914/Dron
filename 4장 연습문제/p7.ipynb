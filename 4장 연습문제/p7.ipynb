{
 "cells": [
  {
   "cell_type": "code",
   "execution_count": null,
   "metadata": {},
   "outputs": [],
   "source": [
    "import cv2 as cv\n",
    "\n",
    "img=cv.imread('soccer.jpg')\n",
    "gray=cv.cvtColor(img,cv.COLOR_BGR2GRAY)\n",
    "\n",
    "grad_x=cv.Scharr(gray,cv.CV_32F,1,0)\t# 소벨 연산자 적용\n",
    "grad_y=cv.Scharr(gray,cv.CV_32F,0,1)\n",
    "\n",
    "sobel_x=cv.convertScaleAbs(grad_x)\t# 절대값을 취해 양수 영상으로 변환\n",
    "sobel_y=cv.convertScaleAbs(grad_y)\n",
    "\n",
    "edge_strength=cv.addWeighted(sobel_x,0.5,sobel_y,0.5,0)\t# 에지 강도 계산\n",
    "\n",
    "cv.imshow('Original',gray)\n",
    "cv.imshow('sobelx',sobel_x)\n",
    "cv.imshow('sobely',sobel_y)\n",
    "cv.imshow('edge strength',edge_strength)\n",
    "\n",
    "cv.waitKey()\n",
    "cv.destroyAllWindows()"
   ]
  },
  {
   "cell_type": "code",
   "execution_count": null,
   "metadata": {},
   "outputs": [],
   "source": [
    "import cv2 as cv\n",
    "\n",
    "img=cv.imread('soccer.jpg')\n",
    "gray=cv.cvtColor(img,cv.COLOR_BGR2GRAY)\n",
    "\n",
    "grad_x=cv.Sobel(gray,cv.CV_32F,1,0,ksize=3)\t# 소벨 연산자 적용\n",
    "grad_y=cv.Sobel(gray,cv.CV_32F,0,1,ksize=3)\n",
    "\n",
    "sobel_x=cv.convertScaleAbs(grad_x)\t# 절대값을 취해 양수 영상으로 변환\n",
    "sobel_y=cv.convertScaleAbs(grad_y)\n",
    "\n",
    "edge_strength=cv.addWeighted(sobel_x,0.5,sobel_y,0.5,0)\t# 에지 강도 계산\n",
    "\n",
    "cv.imshow('Original',gray)\n",
    "cv.imshow('sobelx',sobel_x)\n",
    "cv.imshow('sobely',sobel_y)\n",
    "cv.imshow('edge strength',edge_strength)\n",
    "\n",
    "cv.waitKey()\n",
    "cv.destroyAllWindows()"
   ]
  }
 ],
 "metadata": {
  "kernelspec": {
   "display_name": "Python 3.9.12 ('base')",
   "language": "python",
   "name": "python3"
  },
  "language_info": {
   "name": "python",
   "version": "3.9.12"
  },
  "orig_nbformat": 4,
  "vscode": {
   "interpreter": {
    "hash": "ad2bdc8ecc057115af97d19610ffacc2b4e99fae6737bb82f5d7fb13d2f2c186"
   }
  }
 },
 "nbformat": 4,
 "nbformat_minor": 2
}
