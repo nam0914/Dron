{
 "cells": [
  {
   "cell_type": "code",
   "execution_count": null,
   "metadata": {},
   "outputs": [],
   "source": [
    "mport numpy as np\n",
    "\n",
    "img = cv.imread('soccer.jpg')\t# 영상 읽기\n",
    "img_show = np.copy(img)\t\t\t# 붓 칠을 디스플레이할 목적의 영상\n",
    "\n",
    "mask = np.zeros((img.shape[0], img.shape[1]), np.uint8)\n",
    "mask[:, :] = cv.GC_PR_BGD\t\t# 모든 화소를 배경일 것 같음으로 초기화\n",
    "\n",
    "BrushSiz = 9\t\t\t\t# 붓의 크기\n",
    "LColor, RColor = (255,0,0), (0,0,255)\t# 파란색(물체)과 빨간색(배경)\n",
    "\n",
    "painting_flag = False\t# 붓 칠하는 중인지 여부\n",
    "\n",
    "def painting(event, x, y, flags, param):\n",
    "    global painting_flag\n",
    "\n",
    "    if event == cv.EVENT_LBUTTONDOWN:  \n",
    "        cv.circle(img_show, (x, y), BrushSiz, LColor, -1)\t# 왼쪽 버튼 클릭하면 파란색\n",
    "        cv.circle(mask, (x, y), BrushSiz, cv.GC_FGD, -1)\n",
    "        painting_flag = True\n",
    "       \n",
    "    elif event == cv.EVENT_RBUTTONDOWN:\n",
    "        cv.circle(img_show, (x, y), BrushSiz, RColor, -1)\t# 오른쪽 버튼 클릭하면 빨간색\n",
    "        cv.circle(mask, (x, y), BrushSiz, cv.GC_BGD, -1)\n",
    "        painting_flag = True\n",
    "       \n",
    "    elif event == cv.EVENT_MOUSEMOVE and flags == cv.EVENT_FLAG_LBUTTON:\n",
    "        if painting_flag:\n",
    "            cv.circle(img_show, (x, y), BrushSiz, LColor, -1)# 왼쪽 버튼 클릭하고 이동하면 파란색\n",
    "            cv.circle(mask, (x, y), BrushSiz, cv.GC_FGD, -1)\n",
    "           \n",
    "    elif event == cv.EVENT_MOUSEMOVE and flags == cv.EVENT_FLAG_RBUTTON:\n",
    "        if painting_flag:\n",
    "            cv.circle(img_show, (x, y), BrushSiz, RColor, -1)\t# 오른쪽 버튼 클릭하고 이동하면 빨간색\n",
    "            cv.circle(mask, (x, y), BrushSiz, cv.GC_BGD, -1)\n",
    "   \n",
    "    elif event == cv.EVENT_LBUTTONUP or event == cv.EVENT_RBUTTONUP:\n",
    "        painting_flag = False\n",
    "       \n",
    "    cv.imshow('Painting', img_show)\n",
    "\n",
    "cv.namedWindow('Painting')\n",
    "cv.setMouseCallback('Painting', painting)\n",
    "\n",
    "while(True):\n",
    "    key = cv.waitKey(1)\n",
    "   \n",
    "    if key == ord('q'):\n",
    "        break\n",
    "       \n",
    "    elif key == ord('c'):  # 'c' 키를 누르면 다시 붓칠 가능하도록 초기화\n",
    "        img_show = np.copy(img)\n",
    "        mask[:, :] = cv.GC_PR_BGD\n",
    "        cv.imshow('Painting', img_show)\n",
    "\n",
    "# 여기부터 GrabCut 적용하는 코드\n",
    "background=np.zeros((1,65),np.float64)\t# 배경 히스토그램 0으로 초기화\n",
    "foreground=np.zeros((1,65),np.float64)\t# 물체 히스토그램 0으로 초기화\n",
    "\n",
    "cv.grabCut(img,mask,None,background,foreground,5,cv.GC_INIT_WITH_MASK)\n",
    "mask2=np.where((mask==cv.GC_BGD)|(mask==cv.GC_PR_BGD),0,1).astype('uint8')\n",
    "grab=img*mask2[:,:,np.newaxis]\n",
    "cv.imshow('Grab cut image',grab)  \n",
    "\n",
    "cv.waitKey()\n",
    "cv.destroyAllWindows()"
   ]
  },
  {
   "cell_type": "code",
   "execution_count": null,
   "metadata": {},
   "outputs": [],
   "source": []
  }
 ],
 "metadata": {
  "kernelspec": {
   "display_name": "Python 3.9.12 ('base')",
   "language": "python",
   "name": "python3"
  },
  "language_info": {
   "codemirror_mode": {
    "name": "ipython",
    "version": 3
   },
   "file_extension": ".py",
   "mimetype": "text/x-python",
   "name": "python",
   "nbconvert_exporter": "python",
   "pygments_lexer": "ipython3",
   "version": "3.9.12"
  },
  "orig_nbformat": 4,
  "vscode": {
   "interpreter": {
    "hash": "ad2bdc8ecc057115af97d19610ffacc2b4e99fae6737bb82f5d7fb13d2f2c186"
   }
  }
 },
 "nbformat": 4,
 "nbformat_minor": 2
}
